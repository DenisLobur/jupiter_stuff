{
 "cells": [
  {
   "cell_type": "code",
   "execution_count": 12,
   "id": "initial_id",
   "metadata": {
    "ExecuteTime": {
     "end_time": "2024-04-15T11:40:11.853016Z",
     "start_time": "2024-04-15T11:40:11.847651Z"
    },
    "collapsed": true,
    "jupyter": {
     "outputs_hidden": true
    }
   },
   "outputs": [
    {
     "name": "stdout",
     "output_type": "stream",
     "text": [
      "[('G',), ('K',), ('N',), ('P',), ('Q',), ('R',), ('A',)]\n"
     ]
    }
   ],
   "source": [
    "import sqlite3\n",
    "\n",
    "db_filename = 'cereals-1.db'\n",
    "conn = sqlite3.connect(db_filename)\n",
    "c = conn.cursor()\n",
    "c.execute(\"SELECT DISTINCT Manufacturer FROM cereals\")\n",
    "\n",
    "manufacturers = c.fetchall()\n",
    "print(manufacturers)\n",
    "\n",
    "# for manufacturer in c.fetchall():\n",
    "#     c.execute( \"SELECT avg(Sugars) FROM cereals WHERE Manufacturer='{0}'\".format(manufacturer[ 0]))\n",
    "#     print (\"{0}:{1:.2f}\".format(manufacturer[ 0], c.fetchall()[0][0]))"
   ]
  },
  {
   "cell_type": "code",
   "execution_count": 14,
   "id": "e8a2d4040148a37f",
   "metadata": {
    "ExecuteTime": {
     "end_time": "2024-04-15T11:42:36.892269Z",
     "start_time": "2024-04-15T11:42:36.886914Z"
    }
   },
   "outputs": [
    {
     "name": "stdout",
     "output_type": "stream",
     "text": [
      "G: 7.95\n",
      "K: 7.57\n",
      "N: 1.83\n",
      "P: 8.78\n",
      "Q: 5.25\n",
      "R: 6.12\n",
      "A: 3.00\n"
     ]
    }
   ],
   "source": [
    "for manufacturer in manufacturers:\n",
    "    c.execute( \"SELECT avg(Sugars) FROM cereals WHERE Manufacturer='{0}'\".format(manufacturer[0]))\n",
    "    print (\"{0}: {1:.2f}\".format(manufacturer[0], c.fetchone()[0]))"
   ]
  },
  {
   "cell_type": "code",
   "execution_count": null,
   "id": "d92b5812ac8b103f",
   "metadata": {
    "ExecuteTime": {
     "end_time": "2024-04-15T11:42:42.901869Z",
     "start_time": "2024-04-15T11:42:42.898469Z"
    }
   },
   "outputs": [],
   "source": []
  },
  {
   "cell_type": "code",
   "execution_count": null,
   "id": "815ec72970b9cb75",
   "metadata": {},
   "outputs": [],
   "source": []
  }
 ],
 "metadata": {
  "kernelspec": {
   "display_name": "Python 3 (ipykernel)",
   "language": "python",
   "name": "python3"
  },
  "language_info": {
   "codemirror_mode": {
    "name": "ipython",
    "version": 3
   },
   "file_extension": ".py",
   "mimetype": "text/x-python",
   "name": "python",
   "nbconvert_exporter": "python",
   "pygments_lexer": "ipython3",
   "version": "3.12.1"
  }
 },
 "nbformat": 4,
 "nbformat_minor": 5
}
