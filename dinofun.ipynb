{
 "cells": [
  {
   "metadata": {
    "ExecuteTime": {
     "end_time": "2024-04-15T14:23:42.132746Z",
     "start_time": "2024-04-15T14:23:41.923703Z"
    }
   },
   "cell_type": "code",
   "source": [
    "# Question 1: What is the most popular attraction to visit in the park?\n",
    "\n",
    "import sqlite3\n",
    "\n",
    "db_connect = 'dinofunworld.db'\n",
    "conn = sqlite3.connect(db_connect)\n",
    "cursor = conn.cursor()\n",
    "\n",
    "cursor.execute(\"\"\"\n",
    "    SELECT Name \n",
    "    FROM (\n",
    "        SELECT COUNT(*) as total, attraction \n",
    "        FROM checkin \n",
    "        GROUP BY attraction \n",
    "        ORDER BY total DESC \n",
    "        LIMIT 1\n",
    "    ) a, attraction b \n",
    "    WHERE a.attraction = b.AttractionID\n",
    "\"\"\")\n",
    "\n",
    "result = cursor.fetchone()\n",
    "\n",
    "if result:\n",
    "    print(result[0])\n",
    "\n",
    "conn.close()"
   ],
   "id": "52c7b331575a99fb",
   "outputs": [
    {
     "name": "stdout",
     "output_type": "stream",
     "text": [
      "Atmosfear\n"
     ]
    }
   ],
   "execution_count": 11
  },
  {
   "metadata": {
    "ExecuteTime": {
     "end_time": "2024-04-15T14:23:44.433682Z",
     "start_time": "2024-04-15T14:23:42.133755Z"
    }
   },
   "cell_type": "code",
   "source": [
    "# Question 2: What ride (note that not all attractions are rides) has the longest visit time?\n",
    "\n",
    "import sqlite3\n",
    "from datetime import datetime, timedelta\n",
    "\n",
    "# Connect to the SQLite database\n",
    "db_connect = 'dinofunworld.db'\n",
    "conn = sqlite3.connect(db_connect)\n",
    "cursor = conn.cursor()\n",
    "\n",
    "# Execute the SQL queries\n",
    "cursor.execute(\"SELECT attraction, duration FROM checkin WHERE attraction IN (SELECT AttractionID FROM attraction WHERE Category LIKE '%Rides%') AND duration NOT LIKE '%@SD' AND duration IS NOT NULL\")\n",
    "rows = cursor.fetchall()\n",
    "\n",
    "# Convert duration to seconds and calculate total duration and visit count for each attraction\n",
    "attraction_duration = {}\n",
    "attraction_count = {}\n",
    "for row in rows:\n",
    "    attraction = row[0]\n",
    "    duration = row[1]\n",
    "    if duration is not None and '@SD' not in duration:\n",
    "        t = datetime.strptime(duration, \"%H:%M:%S\")\n",
    "        delta = timedelta(hours=t.hour, minutes=t.minute, seconds=t.second)\n",
    "        total_seconds = delta.total_seconds()\n",
    "        if attraction in attraction_duration:\n",
    "            attraction_duration[attraction] += total_seconds\n",
    "            attraction_count[attraction] += 1\n",
    "        else:\n",
    "            attraction_duration[attraction] = total_seconds\n",
    "            attraction_count[attraction] = 1\n",
    "\n",
    "# Calculate average duration for each attraction\n",
    "attraction_avg = {attraction: round(attraction_duration[attraction] / attraction_count[attraction], 2) for attraction in attraction_duration}\n",
    "\n",
    "# Find the attraction with the maximum average duration\n",
    "max_avg_attraction = max(attraction_avg, key=attraction_avg.get)\n",
    "\n",
    "# Get the name of the attraction with the maximum average duration\n",
    "cursor.execute(\"SELECT Name FROM attraction WHERE AttractionID = ?\", (max_avg_attraction,))\n",
    "result = cursor.fetchone()\n",
    "\n",
    "# Print the result\n",
    "if result:\n",
    "    print(result[0])\n",
    "\n",
    "# Close the connection\n",
    "conn.close()"
   ],
   "id": "25b2eda92897cf34",
   "outputs": [
    {
     "name": "stdout",
     "output_type": "stream",
     "text": [
      "TerrorSaur\n"
     ]
    }
   ],
   "execution_count": 12
  },
  {
   "metadata": {
    "ExecuteTime": {
     "end_time": "2024-04-15T14:23:44.537684Z",
     "start_time": "2024-04-15T14:23:44.434701Z"
    }
   },
   "cell_type": "code",
   "source": [
    "# Question 3: Which Fast Food offering has the fewest visitors?\n",
    "\n",
    "import sqlite3\n",
    "\n",
    "# Connect to the SQLite database\n",
    "db_connect = 'dinofunworld.db'\n",
    "conn = sqlite3.connect(db_connect)\n",
    "\n",
    "# Create a cursor object using the cursor() method\n",
    "cursor = conn.cursor()\n",
    "\n",
    "# Execute the SQL query\n",
    "cursor.execute(\"\"\"\n",
    "    SELECT b.Name \n",
    "    FROM (\n",
    "        SELECT attraction, COUNT(*) as total \n",
    "        FROM checkin  \n",
    "        WHERE attraction IN (\n",
    "            SELECT AttractionID  \n",
    "            FROM attraction \n",
    "            WHERE type LIKE '%Fast %'\n",
    "        ) \n",
    "        GROUP BY attraction \n",
    "        ORDER BY total \n",
    "        LIMIT 1\n",
    "    ) a, attraction b \n",
    "    WHERE a.attraction = b.AttractionID\n",
    "\"\"\")\n",
    "\n",
    "# Fetch the result\n",
    "result = cursor.fetchone()\n",
    "\n",
    "# Print the result\n",
    "if result:\n",
    "    print(result[0])\n",
    "\n",
    "# Close the connection\n",
    "conn.close()"
   ],
   "id": "cd2473688ced2be4",
   "outputs": [
    {
     "name": "stdout",
     "output_type": "stream",
     "text": [
      "Theresaur Food Stop\n"
     ]
    }
   ],
   "execution_count": 13
  },
  {
   "metadata": {
    "ExecuteTime": {
     "end_time": "2024-04-15T14:23:46.967279Z",
     "start_time": "2024-04-15T14:23:44.539707Z"
    }
   },
   "cell_type": "code",
   "source": [
    "# Question 4: Compute the Skyline of number of visits and visit time for the park's ride and report the rides that appear in the Skyline.\n",
    "\n",
    "import sqlite3,pandas\n",
    "from datetime import datetime, timedelta\n",
    "\n",
    "# Connect to the SQLite database\n",
    "db_connect='dinofunworld.db'\n",
    "conn=sqlite3.connect(db_connect)\n",
    "\n",
    "# Create a cursor object using the cursor() method\n",
    "cursor=conn.cursor()\n",
    "\n",
    "# Do the query using pandas\n",
    "df=pandas.read_sql_query(\"select attraction,duration from checkin where  attraction in (select AttractionID from attraction where Category like '%Rides%') and duration not like '%@SD' and duration is not null\",conn)\n",
    "df1=pandas.read_sql_query(\"select count(*) as Totalvisits,attraction  from checkin where  attraction in (select AttractionID from attraction where Category like '%Rides%') and duration not like '%@SD%' and duration is not null group by attraction\",conn)\n",
    "df3=pandas.merge(df, df1, on='attraction')\n",
    "\n",
    "def convert_to_datetime(time):\n",
    "    t = datetime.strptime(time,\"%H:%M:%S\")\n",
    "    delta = timedelta(hours=t.hour, minutes=t.minute, seconds=t.second)\n",
    "    return delta.total_seconds()\n",
    "\n",
    "df['duration'] = df['duration'].apply(convert_to_datetime)\n",
    "newdf=df.groupby(['attraction']).sum()\n",
    "new1df=pandas.merge(newdf, df1, on='attraction')\n",
    "new1df['avg']=round(new1df['duration']/new1df['Totalvisits'],2)\n",
    "result=new1df.loc[new1df['avg'].idxmax()]\n",
    "attractiondf=pandas.read_sql_query(\"select Name,AttractionID from attraction where Category like '%Rides%' \",conn)\n",
    "listatt=attractiondf.values.tolist()\n",
    "res = [item for item in listatt\n",
    "  if item[1] == result.attraction]\n",
    "res[0][0]\n",
    "list=new1df.values.tolist()\n",
    "pd=pandas.DataFrame(columns=['attraction'])\n",
    "finalresult=[]\n",
    "for  tuple in enumerate(list):\n",
    "    count=0\n",
    "    for  another in enumerate(list):\n",
    "       if tuple[1][2]<another[1][2] and tuple[1][3]>another[1][3]:\n",
    "         count=count+1\n",
    "    if count == 0:\n",
    "     pd=tuple[1]\n",
    "     res = [item for item in listatt\n",
    "      if item[1] == pd[0]]\n",
    "     finalresult.append(res[0][0])\n",
    "\n",
    "finalresult"
   ],
   "id": "6f1e07546fe2e9b8",
   "outputs": [
    {
     "data": {
      "text/plain": [
       "['Wrightiraptor Mountain',\n",
       " 'Galactosaurus Rage',\n",
       " 'Keimosaurus Big Spin',\n",
       " 'Atmosfear',\n",
       " 'Dykesadactyl Thrill']"
      ]
     },
     "execution_count": 14,
     "metadata": {},
     "output_type": "execute_result"
    }
   ],
   "execution_count": 14
  },
  {
   "metadata": {
    "ExecuteTime": {
     "end_time": "2024-04-15T14:23:46.970501Z",
     "start_time": "2024-04-15T14:23:46.968299Z"
    }
   },
   "cell_type": "code",
   "source": "",
   "id": "d9b1581f586cb0f1",
   "outputs": [],
   "execution_count": 14
  }
 ],
 "metadata": {
  "kernelspec": {
   "display_name": "Python 3",
   "language": "python",
   "name": "python3"
  },
  "language_info": {
   "codemirror_mode": {
    "name": "ipython",
    "version": 2
   },
   "file_extension": ".py",
   "mimetype": "text/x-python",
   "name": "python",
   "nbconvert_exporter": "python",
   "pygments_lexer": "ipython2",
   "version": "2.7.6"
  }
 },
 "nbformat": 4,
 "nbformat_minor": 5
}
