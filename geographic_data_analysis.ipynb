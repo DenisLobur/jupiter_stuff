{
 "cells": [
  {
   "cell_type": "code",
   "id": "initial_id",
   "metadata": {
    "collapsed": true,
    "ExecuteTime": {
     "end_time": "2024-05-14T14:27:04.869811Z",
     "start_time": "2024-05-14T14:27:04.854689Z"
    }
   },
   "source": [
    "import pandas as pd\n",
    "import geopandas as gpd\n",
    "%matplotlib inline\n",
    "import matplotlib as mpl\n",
    "import folium"
   ],
   "outputs": [],
   "execution_count": 139
  },
  {
   "metadata": {
    "ExecuteTime": {
     "end_time": "2024-05-14T14:27:05.258093Z",
     "start_time": "2024-05-14T14:27:04.870830Z"
    }
   },
   "cell_type": "code",
   "source": [
    "mpl.style.use('ggplot')\n",
    "df_san = pd.read_csv('Police_Department_Incidents_-_Previous_Year__2016_.csv')\n",
    "\n",
    "category_counts = df_san['Category'].value_counts()\n",
    "\n",
    "# Select the three rarest categories\n",
    "rarest_categories = category_counts.nsmallest(3)\n",
    "\n",
    "print(\"Three most rare crime categories:\")\n",
    "print(rarest_categories)  \n",
    "\n",
    "rarest_data = df_san[df_san['Category'].isin(rarest_categories.index)]\n",
    "\n",
    "# Create a map centered on San Francisco\n",
    "sf_map = folium.Map(location=[37.7749, -122.4194], zoom_start=12)\n",
    "\n",
    "# Define different icons for each category\n",
    "icons = {\n",
    "    rarest_categories.index[0]: 'cloud', # TRESPASSING\n",
    "    rarest_categories.index[1]: 'flag',  # PORNOGRAPHY/OBSCENE MAT\n",
    "    rarest_categories.index[2]: 'star'   # GAMBLING\n",
    "}\n",
    "\n",
    "# Add markers to the map for each crime incident\n",
    "for index, row in rarest_data.iterrows():\n",
    "    folium.Marker([row['Y'], row['X']],\n",
    "                  icon=folium.Icon(icon=icons[row['Category']])).add_to(sf_map)\n",
    "\n",
    "# Save the map to an HTML file\n",
    "sf_map.save('map/sf_crime_map.html')"
   ],
   "id": "8cf160c31f538090",
   "outputs": [
    {
     "name": "stdout",
     "output_type": "stream",
     "text": [
      "Three most rare crime categories:\n",
      "Category\n",
      "TREA                        3\n",
      "PORNOGRAPHY/OBSCENE MAT     4\n",
      "GAMBLING                   20\n",
      "Name: count, dtype: int64\n"
     ]
    }
   ],
   "execution_count": 140
  },
  {
   "metadata": {
    "ExecuteTime": {
     "end_time": "2024-05-14T14:27:12.099390Z",
     "start_time": "2024-05-14T14:27:05.259191Z"
    }
   },
   "cell_type": "code",
   "source": [
    "day_counts = df_san['DayOfWeek'].value_counts()\n",
    "\n",
    "# Find the day with the highest number of crimes\n",
    "most_crime_day = day_counts.idxmax()\n",
    "print(\"Day with the most crimes recorded in the city:\", most_crime_day)\n",
    "\n",
    "# Filter data for the day with the most crimes\n",
    "most_crime_data = df_san[df_san['DayOfWeek'] == most_crime_day]\n",
    "\n",
    "# Create a map centered on San Francisco\n",
    "sf_map = folium.Map(location=[37.7749, -122.4194], zoom_start=12)\n",
    "\n",
    "# Add markers to the map for each crime incident\n",
    "for index, row in most_crime_data.iterrows():\n",
    "    folium.Marker([row['Y'], row['X']]).add_to(sf_map)\n",
    "\n",
    "# Save the map to an HTML file\n",
    "sf_map.save('map/most_crime_day_map.html')"
   ],
   "id": "e58cdcb7f975d737",
   "outputs": [
    {
     "name": "stdout",
     "output_type": "stream",
     "text": [
      "Day with the most crimes recorded in the city: Friday\n"
     ]
    }
   ],
   "execution_count": 141
  },
  {
   "metadata": {
    "ExecuteTime": {
     "end_time": "2024-05-14T14:27:22.916332Z",
     "start_time": "2024-05-14T14:27:12.099390Z"
    }
   },
   "cell_type": "code",
   "source": [
    "df_san['Datetime'] = pd.to_datetime(df_san['Date'] + ' ' + df_san['Time'], format='mixed')\n",
    "\n",
    "# Extract day and hour from the datetime column\n",
    "df_san['Day'] = df_san['Datetime'].dt.day_name()\n",
    "df_san['Hour'] = df_san['Datetime'].dt.hour\n",
    "\n",
    "# Find the day and hour with the most incidents\n",
    "most_common_day = df_san['Day'].value_counts().idxmax()\n",
    "most_common_hour = df_san['Hour'].value_counts().idxmax()\n",
    "print(\"Most common day and hour when incidents occur:\", most_common_day, most_common_hour)\n",
    "print('categories', df_san['Category'].value_counts())\n",
    "\n",
    "# Filter data for the most common day and hour\n",
    "most_common_data = df_san[(df_san['Day'] == most_common_day) & (df_san['Hour'] == most_common_hour)]\n",
    "\n",
    "# Create a map centered on San Francisco\n",
    "sf_map = folium.Map(location=[37.7749, -122.4194], zoom_start=12)\n",
    "# print(\"unique categories\", most_common_data['Category'].unique()[:10])\n",
    "\n",
    "# Define different icons for each category of incidents\n",
    "icons = {\n",
    "    category: folium.Icon(color=color) for category, color in zip(most_common_data['Category'].unique()[:10], ['cadetblue', 'gray', 'darkblue','red', 'blue', 'green', 'beige', 'orange', 'pink', 'purple'])\n",
    "}\n",
    "\n",
    "print(\"icons: \", icons.keys())\n",
    "keys = most_common_data['Category'].unique()[:10]\n",
    "\n",
    "# Add markers to the map for each incident\n",
    "for index, row in most_common_data.iterrows():\n",
    "    folium.Marker([row['Y'], row['X']]).add_to(sf_map)\n",
    "\n",
    "# Save the map to an HTML file\n",
    "sf_map.save('map/most_common_day_hour_map.html')"
   ],
   "id": "4ac53bd577a5853d",
   "outputs": [
    {
     "name": "stdout",
     "output_type": "stream",
     "text": [
      "Most common day and hour when incidents occur: Friday 18\n",
      "categories Category\n",
      "LARCENY/THEFT                  40409\n",
      "OTHER OFFENSES                 19599\n",
      "NON-CRIMINAL                   17866\n",
      "ASSAULT                        13577\n",
      "VANDALISM                       8589\n",
      "VEHICLE THEFT                   6419\n",
      "WARRANTS                        5914\n",
      "BURGLARY                        5802\n",
      "SUSPICIOUS OCC                  5782\n",
      "MISSING PERSON                  4338\n",
      "DRUG/NARCOTIC                   4243\n",
      "ROBBERY                         3299\n",
      "FRAUD                           2635\n",
      "SECONDARY CODES                 1841\n",
      "TRESPASS                        1812\n",
      "WEAPON LAWS                     1658\n",
      "SEX OFFENSES, FORCIBLE           940\n",
      "STOLEN PROPERTY                  882\n",
      "RECOVERED VEHICLE                736\n",
      "DISORDERLY CONDUCT               658\n",
      "PROSTITUTION                     641\n",
      "FORGERY/COUNTERFEITING           619\n",
      "DRUNKENNESS                      465\n",
      "DRIVING UNDER THE INFLUENCE      378\n",
      "ARSON                            286\n",
      "KIDNAPPING                       257\n",
      "EMBEZZLEMENT                     168\n",
      "LIQUOR LAWS                      156\n",
      "RUNAWAY                          140\n",
      "SUICIDE                           69\n",
      "BRIBERY                           66\n",
      "EXTORTION                         60\n",
      "FAMILY OFFENSES                   53\n",
      "LOITERING                         42\n",
      "SEX OFFENSES, NON FORCIBLE        40\n",
      "BAD CHECKS                        34\n",
      "GAMBLING                          20\n",
      "PORNOGRAPHY/OBSCENE MAT            4\n",
      "TREA                               3\n",
      "Name: count, dtype: int64\n",
      "icons:  dict_keys(['LARCENY/THEFT', 'BURGLARY', 'SUSPICIOUS OCC', 'NON-CRIMINAL', 'ASSAULT', 'OTHER OFFENSES', 'VANDALISM', 'VEHICLE THEFT', 'WARRANTS', 'ROBBERY'])\n"
     ]
    }
   ],
   "execution_count": 142
  },
  {
   "metadata": {
    "ExecuteTime": {
     "end_time": "2024-05-14T14:27:23.265560Z",
     "start_time": "2024-05-14T14:27:22.916332Z"
    }
   },
   "cell_type": "code",
   "source": [
    "district_counts = df_san['PdDistrict'].value_counts().reset_index()\n",
    "district_counts.columns = ['PdDistrict', 'Incidents']\n",
    "\n",
    "# Read the shapefile into a GeoDataFrame\n",
    "district_shapes = gpd.read_file('geo_bounds.shp')\n",
    "\n",
    "district_shapes.crs = 'EPSG:4326'\n",
    "\n",
    "# Merge GeoDataFrame with incident counts\n",
    "district_data = district_shapes.merge(district_counts, left_index=True, right_index=True)\n",
    "\n",
    "# Create a choropleth map\n",
    "sf_map = folium.Map(location=[37.7749, -122.4194], zoom_start=12)\n",
    "\n",
    "folium.Choropleth(\n",
    "    geo_data=district_data,\n",
    "    name='choropleth',\n",
    "    data=district_data,\n",
    "    columns=['PdDistrict', 'Incidents'],\n",
    "    key_on='feature.properties.PdDistrict',\n",
    "    fill_color='YlOrRd',\n",
    "    fill_opacity=0.7,\n",
    "    line_opacity=0.2,\n",
    "    legend_name='Number of Incidents'\n",
    ").add_to(sf_map)\n",
    "\n",
    "# Add a layer control to the map\n",
    "folium.LayerControl().add_to(sf_map)\n",
    "\n",
    "# Save the map to an HTML file\n",
    "sf_map.save('map/police_districts_map.html')"
   ],
   "id": "963103c269189ac7",
   "outputs": [],
   "execution_count": 143
  },
  {
   "metadata": {
    "ExecuteTime": {
     "end_time": "2024-05-14T14:27:23.268924Z",
     "start_time": "2024-05-14T14:27:23.265560Z"
    }
   },
   "cell_type": "code",
   "source": "",
   "id": "368140d5ab636d10",
   "outputs": [],
   "execution_count": 143
  }
 ],
 "metadata": {
  "kernelspec": {
   "display_name": "Python 3",
   "language": "python",
   "name": "python3"
  },
  "language_info": {
   "codemirror_mode": {
    "name": "ipython",
    "version": 2
   },
   "file_extension": ".py",
   "mimetype": "text/x-python",
   "name": "python",
   "nbconvert_exporter": "python",
   "pygments_lexer": "ipython2",
   "version": "2.7.6"
  }
 },
 "nbformat": 4,
 "nbformat_minor": 5
}
